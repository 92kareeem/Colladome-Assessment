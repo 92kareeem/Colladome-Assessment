{
 "cells": [
  {
   "cell_type": "markdown",
   "id": "36206822",
   "metadata": {},
   "source": [
    "### 1. Frequency Counter"
   ]
  },
  {
   "cell_type": "code",
   "execution_count": 1,
   "id": "48b3869c",
   "metadata": {},
   "outputs": [
    {
     "name": "stdout",
     "output_type": "stream",
     "text": [
      "Frequency Count: {1: 2, 2: 2, 3: 1, 4: 1}\n"
     ]
    }
   ],
   "source": [
    "def freq_counter(numbers):\n",
    "    freq = {}\n",
    "    for num in numbers:\n",
    "        freq[num] = freq.get(num, 0) + 1\n",
    "    return freq\n",
    "\n",
    "if __name__ == \"__main__\":\n",
    "    sample = [1, 2, 2, 3, 1, 4]\n",
    "    print(\"Frequency Count:\", freq_counter(sample))"
   ]
  },
  {
   "cell_type": "markdown",
   "id": "c2ce9d79",
   "metadata": {},
   "source": [
    "### 3. Min-Max Normalization"
   ]
  },
  {
   "cell_type": "code",
   "execution_count": 2,
   "id": "1feadf4a",
   "metadata": {},
   "outputs": [
    {
     "name": "stdout",
     "output_type": "stream",
     "text": [
      "Normalized: [0.0, 0.3333333333333333, 0.6666666666666666, 1.0]\n"
     ]
    }
   ],
   "source": [
    "def min_max_normalize(numbers):\n",
    " #Returns a list of numbers normalized between 0 and 1 using min-max scaling.\n",
    "    min_val = min(numbers)\n",
    "    max_val = max(numbers)\n",
    "    if max_val == min_val:\n",
    "        return [0 for _ in numbers]  # avoid division by zero\n",
    "    return [(x - min_val) / (max_val - min_val) for x in numbers]\n",
    "\n",
    "# usage \n",
    "if __name__ == \"__main__\":\n",
    "    sample = [10, 20, 30, 40]\n",
    "    print(\"Normalized:\", min_max_normalize(sample))"
   ]
  },
  {
   "cell_type": "markdown",
   "id": "20ee0634",
   "metadata": {},
   "source": [
    "### 3. Salary Data Cleaning(pandas)"
   ]
  },
  {
   "cell_type": "code",
   "execution_count": null,
   "id": "ca908bce",
   "metadata": {},
   "outputs": [
    {
     "name": "stdout",
     "output_type": "stream",
     "text": [
      "Sample dataset 'salaries.csv' created.\n",
      "\n",
      "Cleaned Salary Data:\n",
      "    id           name   department   salary\n",
      "0   1       John Doe  Engineering  55000.0\n",
      "1   2     Jane Smith    Marketing  57400.0\n",
      "2   3    Emily Davis  Engineering  62000.0\n",
      "3   4  Michael Brown           HR  48000.0\n",
      "4   5   Sarah Wilson    Marketing  57400.0\n",
      "5   6      David Lee  Engineering  70000.0\n",
      "6   7  Linda Johnson           HR  52000.0\n",
      "7   8    James White  Engineering  57400.0\n",
      "\n",
      "Average Salary After Cleaning: 57400.0\n"
     ]
    },
    {
     "name": "stderr",
     "output_type": "stream",
     "text": [
      "C:\\Users\\Syed Abdul Kareem\\AppData\\Local\\Temp\\ipykernel_1468\\4089754736.py:29: FutureWarning: A value is trying to be set on a copy of a DataFrame or Series through chained assignment using an inplace method.\n",
      "The behavior will change in pandas 3.0. This inplace method will never work because the intermediate object on which we are setting values always behaves as a copy.\n",
      "\n",
      "For example, when doing 'df[col].method(value, inplace=True)', try using 'df.method({col: value}, inplace=True)' or df[col] = df[col].method(value) instead, to perform the operation inplace on the original object.\n",
      "\n",
      "\n",
      "  df['salary'].fillna(df['salary'].mean(), inplace=True)\n"
     ]
    }
   ],
   "source": [
    "import pandas as pd\n",
    "\n",
    "def generate_sample_salary_data(file_path=\"salaries.csv\"):\n",
    "\n",
    "#Creates a sample salaries.csv file with missing values for testing.\n",
    "    data = {\n",
    "        \"id\": [1, 2, 3, 4, 5, 6, 7, 8],\n",
    "        \"name\": [\"John Doe\", \"Jane Smith\", \"Emily Davis\", \"Michael Brown\", \"Sarah Wilson\",\n",
    "                 \"David Lee\", \"Linda Johnson\", \"James White\"],\n",
    "        \"department\": [\"Engineering\", \"Marketing\", \"Engineering\", \"HR\", \"Marketing\",\n",
    "                       \"Engineering\", \"HR\", \"Engineering\"],\n",
    "        \"salary\": [55000, None, 62000, 48000, None, 70000, 52000, None]\n",
    "    }\n",
    "    df = pd.DataFrame(data)\n",
    "    df.to_csv(file_path, index=False)\n",
    "    print(f\"Sample dataset '{file_path}' created.\\n\")\n",
    "\n",
    "\n",
    "def clean_salary_data(csv_path):\n",
    "\n",
    "#Loads the dataset, fills missing salary values with mean, and returns average salary.\n",
    "\n",
    "    df = pd.read_csv(csv_path)\n",
    "    \n",
    "    if 'salary' not in df.columns:\n",
    "        raise KeyError(\"The column 'salary' does not exist in the file.\")\n",
    "    \n",
    "    df['salary'].fillna(df['salary'].mean(), inplace=True)\n",
    "    average_salary = df['salary'].mean()\n",
    "\n",
    "    print(\"Cleaned Salary Data:\\n\", df)\n",
    "    print(\"\\nAverage Salary After Cleaning:\", average_salary)\n",
    "    return average_salary\n",
    "if __name__ == \"__main__\":\n",
    "    generate_sample_salary_data()             \n",
    "    clean_salary_data(\"salaries.csv\")"
   ]
  },
  {
   "cell_type": "markdown",
   "id": "5f474407",
   "metadata": {},
   "source": [
    "### 4. Iris Classification (Scikit-learn)"
   ]
  },
  {
   "cell_type": "code",
   "execution_count": 8,
   "id": "5353b3aa",
   "metadata": {},
   "outputs": [
    {
     "name": "stdout",
     "output_type": "stream",
     "text": [
      "Accuracy Score: 1.0\n"
     ]
    }
   ],
   "source": [
    "from sklearn.datasets import load_iris\n",
    "from sklearn.linear_model import LogisticRegression\n",
    "from sklearn.model_selection import train_test_split\n",
    "from sklearn.metrics import accuracy_score, classification_report\n",
    "\n",
    "def train_iris_logistic_model():\n",
    "\n",
    "    #Loads the Iris dataset,\n",
    "    iris = load_iris()\n",
    "    X_train, X_test, y_train, y_test = train_test_split(\n",
    "        iris.data, iris.target, test_size=0.2, random_state=42)\n",
    "    #train logistic regression model\n",
    "    model = LogisticRegression(max_iter=200)\n",
    "    model.fit(X_train, y_train)\n",
    "\n",
    "    y_pred = model.predict(X_test)\n",
    "    #print accuracy score\n",
    "    print(\"Accuracy Score:\", accuracy_score(y_test, y_pred))\n",
    "    return model\n",
    "model = train_iris_logistic_model()"
   ]
  },
  {
   "cell_type": "markdown",
   "id": "37ec31f3",
   "metadata": {},
   "source": [
    "### 5. Prompt Engineering (LLM)"
   ]
  },
  {
   "cell_type": "markdown",
   "id": "6de41b60",
   "metadata": {},
   "source": [
    "Prompt:\n",
    "\n",
    "You are a professional assistant. Summarize the following email into clear and concise bullet points. Highlight key updates, action items, and deadlines if mentioned.\n",
    "\n",
    "Email:\n",
    "[Insert the full email content here]\n",
    "\n",
    "Format:\n",
    "- Bullet point summary\n",
    "- Use professional and concise language"
   ]
  }
 ],
 "metadata": {
  "kernelspec": {
   "display_name": "base",
   "language": "python",
   "name": "python3"
  },
  "language_info": {
   "codemirror_mode": {
    "name": "ipython",
    "version": 3
   },
   "file_extension": ".py",
   "mimetype": "text/x-python",
   "name": "python",
   "nbconvert_exporter": "python",
   "pygments_lexer": "ipython3",
   "version": "3.12.4"
  }
 },
 "nbformat": 4,
 "nbformat_minor": 5
}
